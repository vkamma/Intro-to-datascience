{
 "cells": [
  {
   "cell_type": "markdown",
   "metadata": {
    "nbpresent": {
     "id": "288a2c78-32a0-4303-b81c-8a6ba3cc98db"
    }
   },
   "source": [
    "Before we get started, a couple of reminders to keep in mind when using iPython notebooks:\n",
    "\n",
    "- Remember that you can see from the left side of a code cell when it was last run if there is a number within the brackets.\n",
    "- When you start a new notebook session, make sure you run all of the cells up to the point where you last left off. Even if the output is still visible from when you ran the cells in your previous session, the kernel starts in a fresh state so you'll need to reload the data, etc. on a new session.\n",
    "- The previous point is useful to keep in mind if your answers do not match what is expected in the lesson's quizzes. Try reloading the data and run all of the processing steps one by one in order to make sure that you are working with the same variables and data that are at each quiz stage.\n",
    "\n",
    "\n",
    "## Load Data from CSVs"
   ]
  },
  {
   "cell_type": "code",
   "execution_count": 1,
   "metadata": {
    "collapsed": true,
    "nbpresent": {
     "id": "71ddde23-79be-4781-ab61-8bd091434768"
    }
   },
   "outputs": [],
   "source": [
    "import unicodecsv\n",
    "\n",
    "## Longer version of code (replaced with shorter, equivalent version below)\n",
    "\n",
    "# enrollments = []\n",
    "# f = open('enrollments.csv', 'rb')\n",
    "# reader = unicodecsv.DictReader(f)\n",
    "# for row in reader:\n",
    "#     enrollments.append(row)\n",
    "# f.close()\n",
    "\n",
    "def read_csv(csvfile):\n",
    "    with open(csvfile, 'rb') as f:\n",
    "        reader = unicodecsv.DictReader(f)\n",
    "        return list(reader)"
   ]
  },
  {
   "cell_type": "code",
   "execution_count": 2,
   "metadata": {
    "collapsed": false,
    "nbpresent": {
     "id": "a817a392-a955-457f-9415-407cc95cf78b"
    }
   },
   "outputs": [
    {
     "name": "stdout",
     "output_type": "stream",
     "text": [
      "{u'lessons_completed': u'0.0', u'num_courses_visited': u'1.0', u'total_minutes_visited': u'11.6793745', u'projects_completed': u'0.0', u'acct': u'0', u'utc_date': u'2015-01-09'}\n",
      "{u'lesson_key': u'3176718735', u'processing_state': u'EVALUATED', u'account_key': u'256', u'assigned_rating': u'UNGRADED', u'completion_date': u'2015-01-16', u'creation_date': u'2015-01-14'}\n",
      "{u'status': u'canceled', u'is_udacity': u'True', u'is_canceled': u'True', u'join_date': u'2014-11-10', u'account_key': u'448', u'cancel_date': u'2015-01-14', u'days_to_cancel': u'65'}\n"
     ]
    }
   ],
   "source": [
    "#####################################\n",
    "#                 1                 #\n",
    "#####################################\n",
    "\n",
    "## Read in the data from daily_engagement.csv and project_submissions.csv \n",
    "## and store the results in the below variables.\n",
    "## Then look at the first row of each table.\n",
    "daily_engagement = read_csv('daily_engagement.csv')\n",
    "project_submissions = read_csv('project_submissions.csv')\n",
    "enrollments = read_csv('enrollments.csv')\n",
    "print daily_engagement[0]\n",
    "print project_submissions[0]\n",
    "print enrollments[0]"
   ]
  },
  {
   "cell_type": "markdown",
   "metadata": {
    "nbpresent": {
     "id": "86c9ae1f-92f3-4431-ae82-e06b19e25221"
    }
   },
   "source": [
    "## Fixing Data Types"
   ]
  },
  {
   "cell_type": "code",
   "execution_count": 3,
   "metadata": {
    "collapsed": false,
    "nbpresent": {
     "id": "dfb0c43a-c7f0-4629-8955-2d9487d8ca3d"
    }
   },
   "outputs": [
    {
     "data": {
      "text/plain": [
       "{u'account_key': u'448',\n",
       " u'cancel_date': datetime.datetime(2015, 1, 14, 0, 0),\n",
       " u'days_to_cancel': 65,\n",
       " u'is_canceled': True,\n",
       " u'is_udacity': True,\n",
       " u'join_date': datetime.datetime(2014, 11, 10, 0, 0),\n",
       " u'status': u'canceled'}"
      ]
     },
     "execution_count": 3,
     "metadata": {},
     "output_type": "execute_result"
    }
   ],
   "source": [
    "from datetime import datetime as dt\n",
    "\n",
    "# Takes a date as a string, and returns a Python datetime object. \n",
    "# If there is no date given, returns None\n",
    "def parse_date(date):\n",
    "    if date == '':\n",
    "        return None\n",
    "    else:\n",
    "        return dt.strptime(date, '%Y-%m-%d')\n",
    "    \n",
    "# Takes a string which is either an empty string or represents an integer,\n",
    "# and returns an int or None.\n",
    "def parse_maybe_int(i):\n",
    "    if i == '':\n",
    "        return None\n",
    "    else:\n",
    "        return int(i)\n",
    "\n",
    "# Clean up the data types in the enrollments table\n",
    "for enrollment in enrollments:\n",
    "    enrollment['cancel_date'] = parse_date(enrollment['cancel_date'])\n",
    "    enrollment['days_to_cancel'] = parse_maybe_int(enrollment['days_to_cancel'])\n",
    "    enrollment['is_canceled'] = enrollment['is_canceled'] == 'True'\n",
    "    enrollment['is_udacity'] = enrollment['is_udacity'] == 'True'\n",
    "    enrollment['join_date'] = parse_date(enrollment['join_date'])\n",
    "    \n",
    "enrollments[0]"
   ]
  },
  {
   "cell_type": "code",
   "execution_count": 4,
   "metadata": {
    "collapsed": false,
    "nbpresent": {
     "id": "1d40ae76-f9cf-4ac2-a99d-b6ac7e21151d"
    }
   },
   "outputs": [
    {
     "data": {
      "text/plain": [
       "{u'acct': u'0',\n",
       " u'lessons_completed': 0,\n",
       " u'num_courses_visited': 1,\n",
       " u'projects_completed': 0,\n",
       " u'total_minutes_visited': 11.6793745,\n",
       " u'utc_date': datetime.datetime(2015, 1, 9, 0, 0)}"
      ]
     },
     "execution_count": 4,
     "metadata": {},
     "output_type": "execute_result"
    }
   ],
   "source": [
    "# Clean up the data types in the engagement table\n",
    "for engagement_record in daily_engagement:\n",
    "    engagement_record['lessons_completed'] = int(float(engagement_record['lessons_completed']))\n",
    "    engagement_record['num_courses_visited'] = int(float(engagement_record['num_courses_visited']))\n",
    "    engagement_record['projects_completed'] = int(float(engagement_record['projects_completed']))\n",
    "    engagement_record['total_minutes_visited'] = float(engagement_record['total_minutes_visited'])\n",
    "    engagement_record['utc_date'] = parse_date(engagement_record['utc_date'])\n",
    "    \n",
    "daily_engagement[0]"
   ]
  },
  {
   "cell_type": "code",
   "execution_count": 5,
   "metadata": {
    "collapsed": false,
    "nbpresent": {
     "id": "35c6b49a-1fc3-4b32-b090-6fa213515075"
    }
   },
   "outputs": [
    {
     "data": {
      "text/plain": [
       "{u'account_key': u'256',\n",
       " u'assigned_rating': u'UNGRADED',\n",
       " u'completion_date': datetime.datetime(2015, 1, 16, 0, 0),\n",
       " u'creation_date': datetime.datetime(2015, 1, 14, 0, 0),\n",
       " u'lesson_key': u'3176718735',\n",
       " u'processing_state': u'EVALUATED'}"
      ]
     },
     "execution_count": 5,
     "metadata": {},
     "output_type": "execute_result"
    }
   ],
   "source": [
    "# Clean up the data types in the submissions table\n",
    "for submission in project_submissions:\n",
    "    submission['completion_date'] = parse_date(submission['completion_date'])\n",
    "    submission['creation_date'] = parse_date(submission['creation_date'])\n",
    "\n",
    "project_submissions[0]"
   ]
  },
  {
   "cell_type": "markdown",
   "metadata": {
    "nbpresent": {
     "id": "72387bf5-c49c-4f03-88e4-be7a90cf9990"
    }
   },
   "source": [
    "Note when running the above cells that we are actively changing the contents of our data variables. If you try to run these cells multiple times in the same session, an error will occur.\n",
    "\n",
    "## Investigating the Data"
   ]
  },
  {
   "cell_type": "code",
   "execution_count": 6,
   "metadata": {
    "collapsed": false
   },
   "outputs": [
    {
     "name": "stdout",
     "output_type": "stream",
     "text": [
      "{u'lessons_completed': 0, u'num_courses_visited': 1, u'total_minutes_visited': 11.6793745, u'projects_completed': 0, 'account_key': u'0', u'utc_date': datetime.datetime(2015, 1, 9, 0, 0)}\n"
     ]
    }
   ],
   "source": [
    "for student_record in daily_engagement:\n",
    "    student_record['account_key'] = student_record['acct']\n",
    "    del student_record['acct']\n",
    "print daily_engagement[0]"
   ]
  },
  {
   "cell_type": "code",
   "execution_count": 30,
   "metadata": {
    "collapsed": true,
    "nbpresent": {
     "id": "bc3f3b2f-8d55-4bf9-8dbf-5fdc99af3a0d"
    }
   },
   "outputs": [],
   "source": [
    "#####################################\n",
    "#                 2                 #\n",
    "#####################################\n",
    "\n",
    "## Find the total number of rows and the number of unique students (account keys)\n",
    "## in each table.\n",
    "def get_unique_students(data):\n",
    "    unique_students = set()\n",
    "    for data_point in data:\n",
    "        unique_students.add(data_point['account_key'])\n",
    "    return unique_students"
   ]
  },
  {
   "cell_type": "code",
   "execution_count": 31,
   "metadata": {
    "collapsed": false
   },
   "outputs": [
    {
     "name": "stdout",
     "output_type": "stream",
     "text": [
      "1640\n",
      "Number of unique enrolled students: 1302\n"
     ]
    }
   ],
   "source": [
    "print len(enrollments)\n",
    "unique_enrollment_students = get_unique_students(enrollments)\n",
    "print \"Number of unique enrolled students: \" + str(len(unique_enrollment_students))"
   ]
  },
  {
   "cell_type": "code",
   "execution_count": 10,
   "metadata": {
    "collapsed": false
   },
   "outputs": [
    {
     "name": "stdout",
     "output_type": "stream",
     "text": [
      "136240\n",
      "Number of unique engaged students: 1237\n"
     ]
    }
   ],
   "source": [
    "print len(daily_engagement)\n",
    "unique_engagement_students = get_unique_students(daily_engagement)\n",
    "print \"Number of unique engaged students: \" + str(len(unique_engagement_students))"
   ]
  },
  {
   "cell_type": "code",
   "execution_count": 13,
   "metadata": {
    "collapsed": false
   },
   "outputs": [
    {
     "name": "stdout",
     "output_type": "stream",
     "text": [
      "3642\n",
      "Number of unique students submitted projects: 743\n"
     ]
    }
   ],
   "source": [
    "print len(project_submissions)\n",
    "unique_submitted_students = get_unique_students(project_submissions)\n",
    "print \"Number of unique students submitted projects: \" + str(len(unique_submitted_students))"
   ]
  },
  {
   "cell_type": "markdown",
   "metadata": {
    "nbpresent": {
     "id": "9242fc4f-4ebb-4335-bdec-3dddfb30f5be"
    }
   },
   "source": [
    "## Missing Engagement Records"
   ]
  },
  {
   "cell_type": "code",
   "execution_count": 34,
   "metadata": {
    "collapsed": false,
    "nbpresent": {
     "id": "a18c30d8-5c0e-4f56-b681-0a66563e9f8c"
    }
   },
   "outputs": [
    {
     "name": "stdout",
     "output_type": "stream",
     "text": [
      "{u'status': u'canceled', u'is_udacity': False, u'is_canceled': True, u'join_date': datetime.datetime(2014, 11, 12, 0, 0), u'account_key': u'1219', u'cancel_date': datetime.datetime(2014, 11, 12, 0, 0), u'days_to_cancel': 0}\n"
     ]
    }
   ],
   "source": [
    "#####################################\n",
    "#                 3                 #\n",
    "#####################################\n",
    "\n",
    "## Find any one student enrollments where the student is missing from the daily engagement table.\n",
    "## Output that enrollment.\n",
    "for enrollment in enrollments:\n",
    "    student = enrollment['account_key']\n",
    "    if student not in unique_engagement_students:\n",
    "        print enrollment\n",
    "        break"
   ]
  },
  {
   "cell_type": "markdown",
   "metadata": {
    "nbpresent": {
     "id": "a7c6d64c-931d-411a-ba3a-6ff34d5fe4ab"
    }
   },
   "source": [
    "## Checking for More Problem Records"
   ]
  },
  {
   "cell_type": "code",
   "execution_count": 36,
   "metadata": {
    "collapsed": false,
    "nbpresent": {
     "id": "d8840eaf-e852-4e04-8557-1f0d99ad6b68"
    }
   },
   "outputs": [
    {
     "name": "stdout",
     "output_type": "stream",
     "text": [
      "3\n"
     ]
    }
   ],
   "source": [
    "#####################################\n",
    "#                 5                 #\n",
    "#####################################\n",
    "\n",
    "## Find the number of surprising data points (enrollments missing from\n",
    "## the engagement table) that remain, if any.\n",
    "num_problem_students = 0\n",
    "for enrollment in enrollments:\n",
    "    student = enrollment['account_key']\n",
    "    if student not in unique_engagement_students and enrollment['join_date'] != enrollment['cancel_date']:\n",
    "        num_problem_students += 1\n",
    "\n",
    "print num_problem_students"
   ]
  },
  {
   "cell_type": "markdown",
   "metadata": {
    "nbpresent": {
     "id": "0eafca78-4a95-4d62-a2a6-0d2fb6393599"
    }
   },
   "source": [
    "## Tracking Down the Remaining Problems"
   ]
  },
  {
   "cell_type": "code",
   "execution_count": 37,
   "metadata": {
    "collapsed": false,
    "nbpresent": {
     "id": "d9aa2cd1-8eba-4c45-848d-936613d1212c"
    }
   },
   "outputs": [
    {
     "data": {
      "text/plain": [
       "6"
      ]
     },
     "execution_count": 37,
     "metadata": {},
     "output_type": "execute_result"
    }
   ],
   "source": [
    "# Create a set of the account keys for all Udacity test accounts\n",
    "udacity_test_accounts = set()\n",
    "for enrollment in enrollments:\n",
    "    if enrollment['is_udacity']:\n",
    "        udacity_test_accounts.add(enrollment['account_key'])\n",
    "len(udacity_test_accounts)"
   ]
  },
  {
   "cell_type": "code",
   "execution_count": 38,
   "metadata": {
    "collapsed": true,
    "nbpresent": {
     "id": "782f05c6-d111-450c-91fa-8b8bb3d269b4"
    }
   },
   "outputs": [],
   "source": [
    "# Given some data with an account_key field, removes any records corresponding to Udacity test accounts\n",
    "def remove_udacity_accounts(data):\n",
    "    non_udacity_data = []\n",
    "    for data_point in data:\n",
    "        if data_point['account_key'] not in udacity_test_accounts:\n",
    "            non_udacity_data.append(data_point)\n",
    "    return non_udacity_data"
   ]
  },
  {
   "cell_type": "code",
   "execution_count": 39,
   "metadata": {
    "collapsed": false,
    "nbpresent": {
     "id": "fd79f149-ef17-4945-b850-0aef569d9d24"
    }
   },
   "outputs": [
    {
     "name": "stdout",
     "output_type": "stream",
     "text": [
      "1622\n",
      "135656\n",
      "3634\n"
     ]
    }
   ],
   "source": [
    "# Remove Udacity test accounts from all three tables\n",
    "non_udacity_enrollments = remove_udacity_accounts(enrollments)\n",
    "non_udacity_engagement = remove_udacity_accounts(daily_engagement)\n",
    "non_udacity_submissions = remove_udacity_accounts(project_submissions)\n",
    "\n",
    "print len(non_udacity_enrollments)\n",
    "print len(non_udacity_engagement)\n",
    "print len(non_udacity_submissions)"
   ]
  },
  {
   "cell_type": "markdown",
   "metadata": {
    "nbpresent": {
     "id": "7bf0a58d-0143-4354-b1ac-09a849350704"
    }
   },
   "source": [
    "## Refining the Question"
   ]
  },
  {
   "cell_type": "code",
   "execution_count": 52,
   "metadata": {
    "collapsed": false,
    "nbpresent": {
     "id": "1168a0e1-dc97-4755-99ef-ebbec0ecb134"
    }
   },
   "outputs": [
    {
     "data": {
      "text/plain": [
       "995"
      ]
     },
     "execution_count": 52,
     "metadata": {},
     "output_type": "execute_result"
    }
   ],
   "source": [
    "#####################################\n",
    "#                 6                 #\n",
    "#####################################\n",
    "\n",
    "## Create a dictionary named paid_students containing all students who either\n",
    "## haven't canceled yet or who remained enrolled for more than 7 days. The keys\n",
    "## should be account keys, and the values should be the date the student enrolled.\n",
    "\n",
    "paid_students = {}\n",
    "\n",
    "for enrollment in non_udacity_enrollments:\n",
    "    if not enrollment['is_canceled'] or enrollment['days_to_cancel'] > 7:\n",
    "        account_key = enrollment['account_key']\n",
    "        enrollment_date = enrollment['join_date']        \n",
    "        paid_students[account_key] = enrollment_date\n",
    "len(paid_students)"
   ]
  },
  {
   "cell_type": "markdown",
   "metadata": {
    "nbpresent": {
     "id": "c4efb7d7-32c3-4a4b-89ca-8e1b8b083331"
    }
   },
   "source": [
    "## Getting Data from First Week"
   ]
  },
  {
   "cell_type": "code",
   "execution_count": null,
   "metadata": {
    "collapsed": true,
    "nbpresent": {
     "id": "5bbdcfab-91fd-442b-a206-88a8fa0c1dd3"
    }
   },
   "outputs": [],
   "source": [
    "# Takes a student's join date and the date of a specific engagement record,\n",
    "# and returns True if that engagement record happened within one week\n",
    "# of the student joining.\n",
    "def within_one_week(join_date, engagement_date):\n",
    "    time_delta = engagement_date - join_date\n",
    "    return time_delta.days < 7"
   ]
  },
  {
   "cell_type": "code",
   "execution_count": null,
   "metadata": {
    "collapsed": true,
    "nbpresent": {
     "id": "319031fa-6b17-4f91-b822-f2f0975d5f22"
    }
   },
   "outputs": [],
   "source": [
    "#####################################\n",
    "#                 7                 #\n",
    "#####################################\n",
    "\n",
    "## Create a list of rows from the engagement table including only rows where\n",
    "## the student is one of the paid students you just found, and the date is within\n",
    "## one week of the student's join date.\n",
    "\n",
    "paid_engagement_in_first_week = "
   ]
  },
  {
   "cell_type": "markdown",
   "metadata": {
    "nbpresent": {
     "id": "4246d09f-a60b-465c-b369-72940c938a74"
    }
   },
   "source": [
    "## Exploring Student Engagement"
   ]
  },
  {
   "cell_type": "code",
   "execution_count": null,
   "metadata": {
    "collapsed": true,
    "nbpresent": {
     "id": "9d46007c-8ded-479b-a4e0-198123315088"
    }
   },
   "outputs": [],
   "source": [
    "from collections import defaultdict\n",
    "\n",
    "# Create a dictionary of engagement grouped by student.\n",
    "# The keys are account keys, and the values are lists of engagement records.\n",
    "engagement_by_account = defaultdict(list)\n",
    "for engagement_record in paid_engagement_in_first_week:\n",
    "    account_key = engagement_record['account_key']\n",
    "    engagement_by_account[account_key].append(engagement_record)"
   ]
  },
  {
   "cell_type": "code",
   "execution_count": null,
   "metadata": {
    "collapsed": true,
    "nbpresent": {
     "id": "10233f4b-cf57-4781-b99f-edb0f2882b7a"
    }
   },
   "outputs": [],
   "source": [
    "# Create a dictionary with the total minutes each student spent in the classroom during the first week.\n",
    "# The keys are account keys, and the values are numbers (total minutes)\n",
    "total_minutes_by_account = {}\n",
    "for account_key, engagement_for_student in engagement_by_account.items():\n",
    "    total_minutes = 0\n",
    "    for engagement_record in engagement_for_student:\n",
    "        total_minutes += engagement_record['total_minutes_visited']\n",
    "    total_minutes_by_account[account_key] = total_minutes"
   ]
  },
  {
   "cell_type": "code",
   "execution_count": null,
   "metadata": {
    "collapsed": true,
    "nbpresent": {
     "id": "455409bd-70eb-4a2e-8351-a8bb882d047c"
    }
   },
   "outputs": [],
   "source": [
    "import numpy as np\n",
    "\n",
    "# Summarize the data about minutes spent in the classroom\n",
    "total_minutes = total_minutes_by_account.values()\n",
    "print 'Mean:', np.mean(total_minutes)\n",
    "print 'Standard deviation:', np.std(total_minutes)\n",
    "print 'Minimum:', np.min(total_minutes)\n",
    "print 'Maximum:', np.max(total_minutes)"
   ]
  },
  {
   "cell_type": "markdown",
   "metadata": {
    "nbpresent": {
     "id": "4938cc29-8bfc-4bc6-9aae-ac35f2962fa7"
    }
   },
   "source": [
    "## Debugging Data Analysis Code"
   ]
  },
  {
   "cell_type": "code",
   "execution_count": null,
   "metadata": {
    "collapsed": true,
    "nbpresent": {
     "id": "1318df5c-c7e0-46b3-a79a-b2bf2174488b"
    }
   },
   "outputs": [],
   "source": [
    "#####################################\n",
    "#                 8                 #\n",
    "#####################################\n",
    "\n",
    "## Go through a similar process as before to see if there is a problem.\n",
    "## Locate at least one surprising piece of data, output it, and take a look at it."
   ]
  },
  {
   "cell_type": "markdown",
   "metadata": {
    "nbpresent": {
     "id": "d201a36e-0da4-4769-8664-fb58b245171d"
    }
   },
   "source": [
    "## Lessons Completed in First Week"
   ]
  },
  {
   "cell_type": "code",
   "execution_count": null,
   "metadata": {
    "collapsed": true,
    "nbpresent": {
     "id": "13975274-b879-40e2-8862-9bf3c243fcb6"
    }
   },
   "outputs": [],
   "source": [
    "#####################################\n",
    "#                 9                 #\n",
    "#####################################\n",
    "\n",
    "## Adapt the code above to find the mean, standard deviation, minimum, and maximum for\n",
    "## the number of lessons completed by each student during the first week. Try creating\n",
    "## one or more functions to re-use the code above."
   ]
  },
  {
   "cell_type": "markdown",
   "metadata": {
    "nbpresent": {
     "id": "7129f889-6626-41df-aa46-8c8b425462c7"
    }
   },
   "source": [
    "## Number of Visits in First Week"
   ]
  },
  {
   "cell_type": "code",
   "execution_count": null,
   "metadata": {
    "collapsed": true,
    "nbpresent": {
     "id": "ee674230-133a-4189-8a1d-c0e29dc694c1"
    }
   },
   "outputs": [],
   "source": [
    "######################################\n",
    "#                 10                 #\n",
    "######################################\n",
    "\n",
    "## Find the mean, standard deviation, minimum, and maximum for the number of\n",
    "## days each student visits the classroom during the first week."
   ]
  },
  {
   "cell_type": "markdown",
   "metadata": {
    "nbpresent": {
     "id": "b3b3fb13-c172-4ee5-9431-3cbecd552528"
    }
   },
   "source": [
    "## Splitting out Passing Students"
   ]
  },
  {
   "cell_type": "code",
   "execution_count": null,
   "metadata": {
    "collapsed": true,
    "nbpresent": {
     "id": "d710d017-3df3-49a5-b73b-d612eb85a564"
    }
   },
   "outputs": [],
   "source": [
    "######################################\n",
    "#                 11                 #\n",
    "######################################\n",
    "\n",
    "## Create two lists of engagement data for paid students in the first week.\n",
    "## The first list should contain data for students who eventually pass the\n",
    "## subway project, and the second list should contain data for students\n",
    "## who do not.\n",
    "\n",
    "subway_project_lesson_keys = ['746169184', '3176718735']\n",
    "\n",
    "passing_engagement =\n",
    "non_passing_engagement ="
   ]
  },
  {
   "cell_type": "markdown",
   "metadata": {
    "nbpresent": {
     "id": "82c2923d-5fbc-41a4-a18c-48af09185d41"
    }
   },
   "source": [
    "## Comparing the Two Student Groups"
   ]
  },
  {
   "cell_type": "code",
   "execution_count": null,
   "metadata": {
    "collapsed": true,
    "nbpresent": {
     "id": "cf355e47-e8fc-49d9-8d85-8dbd32bb66c4"
    }
   },
   "outputs": [],
   "source": [
    "######################################\n",
    "#                 12                 #\n",
    "######################################\n",
    "\n",
    "## Compute some metrics you're interested in and see how they differ for\n",
    "## students who pass the subway project vs. students who don't. A good\n",
    "## starting point would be the metrics we looked at earlier (minutes spent\n",
    "## in the classroom, lessons completed, and days visited)."
   ]
  },
  {
   "cell_type": "markdown",
   "metadata": {
    "nbpresent": {
     "id": "7350bcd7-de9d-4350-a731-6756b63e5489"
    }
   },
   "source": [
    "## Making Histograms"
   ]
  },
  {
   "cell_type": "code",
   "execution_count": null,
   "metadata": {
    "collapsed": true,
    "nbpresent": {
     "id": "cf9b5092-fe4b-4b77-adc8-f0837808eaae"
    }
   },
   "outputs": [],
   "source": [
    "######################################\n",
    "#                 13                 #\n",
    "######################################\n",
    "\n",
    "## Make histograms of the three metrics we looked at earlier for both\n",
    "## students who passed the subway project and students who didn't. You\n",
    "## might also want to make histograms of any other metrics you examined."
   ]
  },
  {
   "cell_type": "markdown",
   "metadata": {
    "nbpresent": {
     "id": "5ee1a392-0a31-4d38-9e6e-949828ce599a"
    }
   },
   "source": [
    "## Improving Plots and Sharing Findings"
   ]
  },
  {
   "cell_type": "code",
   "execution_count": null,
   "metadata": {
    "collapsed": true,
    "nbpresent": {
     "id": "6cf4429f-d45b-4041-bee2-005b6b5df6ae"
    }
   },
   "outputs": [],
   "source": [
    "######################################\n",
    "#                 14                 #\n",
    "######################################\n",
    "\n",
    "## Make a more polished version of at least one of your visualizations\n",
    "## from earlier. Try importing the seaborn library to make the visualization\n",
    "## look better, adding axis labels and a title, and changing one or more\n",
    "## arguments to the hist() function."
   ]
  }
 ],
 "metadata": {
  "anaconda-cloud": {},
  "kernelspec": {
   "display_name": "Python [conda env:gl-env]",
   "language": "python",
   "name": "conda-env-gl-env-py"
  },
  "language_info": {
   "codemirror_mode": {
    "name": "ipython",
    "version": 2
   },
   "file_extension": ".py",
   "mimetype": "text/x-python",
   "name": "python",
   "nbconvert_exporter": "python",
   "pygments_lexer": "ipython2",
   "version": "2.7.11"
  },
  "nbpresent": {
   "slides": {
    "02d40ee5-8ff6-4831-a6a5-4b47ce2eb06b": {
     "id": "02d40ee5-8ff6-4831-a6a5-4b47ce2eb06b",
     "prev": "2d159b94-fd3f-4a21-a403-a87be468dc69",
     "regions": {
      "d1a03713-92dd-4486-a74a-bca65b04b2a8": {
       "attrs": {
        "height": 0.8,
        "width": 0.8,
        "x": 0.1,
        "y": 0.1
       },
       "content": {
        "cell": "455409bd-70eb-4a2e-8351-a8bb882d047c",
        "part": "whole"
       },
       "id": "d1a03713-92dd-4486-a74a-bca65b04b2a8"
      }
     }
    },
    "0553d095-9050-4655-bc77-e91ed48f34c1": {
     "id": "0553d095-9050-4655-bc77-e91ed48f34c1",
     "prev": "aff7e23a-f1de-4236-b962-b7f0040fdd43",
     "regions": {
      "940df828-eb4e-4e56-bb45-3f99454458db": {
       "attrs": {
        "height": 0.8,
        "width": 0.8,
        "x": 0.1,
        "y": 0.1
       },
       "content": {
        "cell": "1318df5c-c7e0-46b3-a79a-b2bf2174488b",
        "part": "whole"
       },
       "id": "940df828-eb4e-4e56-bb45-3f99454458db"
      }
     }
    },
    "1644a939-8171-477b-9a45-a81fadb29168": {
     "id": "1644a939-8171-477b-9a45-a81fadb29168",
     "prev": "30715f30-3cc0-4ef7-bfea-bc13ecd8fe52",
     "regions": {
      "30a3bb22-aa24-4198-875b-ad22bdff3645": {
       "attrs": {
        "height": 0.8,
        "width": 0.8,
        "x": 0.1,
        "y": 0.1
       },
       "content": {
        "cell": "cf9b5092-fe4b-4b77-adc8-f0837808eaae",
        "part": "whole"
       },
       "id": "30a3bb22-aa24-4198-875b-ad22bdff3645"
      }
     }
    },
    "1e53fce1-837b-461a-9d6e-3fed42060757": {
     "id": "1e53fce1-837b-461a-9d6e-3fed42060757",
     "prev": "1644a939-8171-477b-9a45-a81fadb29168",
     "regions": {
      "1dadb054-bd52-4f87-bdd1-d52c0a9440a7": {
       "attrs": {
        "height": 0.8,
        "width": 0.8,
        "x": 0.1,
        "y": 0.1
       },
       "content": {
        "cell": "5ee1a392-0a31-4d38-9e6e-949828ce599a",
        "part": "whole"
       },
       "id": "1dadb054-bd52-4f87-bdd1-d52c0a9440a7"
      }
     }
    },
    "254f7282-3f5c-42f8-b60b-03d28404e6bf": {
     "id": "254f7282-3f5c-42f8-b60b-03d28404e6bf",
     "prev": "dcf5e1e0-21c2-4c98-8e48-615aed46552a",
     "regions": {
      "0e935827-ac1a-4e36-98a1-fc4bb84c18b9": {
       "attrs": {
        "height": 0.8,
        "width": 0.8,
        "x": 0.1,
        "y": 0.1
       },
       "content": {
        "cell": "7bf0a58d-0143-4354-b1ac-09a849350704",
        "part": "whole"
       },
       "id": "0e935827-ac1a-4e36-98a1-fc4bb84c18b9"
      }
     }
    },
    "293a66e9-3ba6-492c-ae2d-c43f85d9708d": {
     "id": "293a66e9-3ba6-492c-ae2d-c43f85d9708d",
     "prev": null,
     "regions": {
      "2d815abf-a1a1-4a77-9c28-60082ba60442": {
       "attrs": {
        "height": 0.8,
        "width": 0.8,
        "x": 0.1,
        "y": 0.1
       },
       "content": {
        "cell": "288a2c78-32a0-4303-b81c-8a6ba3cc98db",
        "part": "whole"
       },
       "id": "2d815abf-a1a1-4a77-9c28-60082ba60442"
      }
     }
    },
    "2d159b94-fd3f-4a21-a403-a87be468dc69": {
     "id": "2d159b94-fd3f-4a21-a403-a87be468dc69",
     "prev": "8cb8348b-9402-4880-8f64-27f38350ea87",
     "regions": {
      "22d0876f-5b67-4270-b111-24081857787d": {
       "attrs": {
        "height": 0.8,
        "width": 0.8,
        "x": 0.1,
        "y": 0.1
       },
       "content": {
        "cell": "10233f4b-cf57-4781-b99f-edb0f2882b7a",
        "part": "whole"
       },
       "id": "22d0876f-5b67-4270-b111-24081857787d"
      }
     }
    },
    "30715f30-3cc0-4ef7-bfea-bc13ecd8fe52": {
     "id": "30715f30-3cc0-4ef7-bfea-bc13ecd8fe52",
     "prev": "a42a5d94-eed2-4d12-858d-6b4390c62289",
     "regions": {
      "92c4f3d5-41eb-4f52-9d15-dba6e6467627": {
       "attrs": {
        "height": 0.8,
        "width": 0.8,
        "x": 0.1,
        "y": 0.1
       },
       "content": {
        "cell": "7350bcd7-de9d-4350-a731-6756b63e5489",
        "part": "whole"
       },
       "id": "92c4f3d5-41eb-4f52-9d15-dba6e6467627"
      }
     }
    },
    "325db9f9-d67b-42e1-9794-63a0a0f11b9c": {
     "id": "325db9f9-d67b-42e1-9794-63a0a0f11b9c",
     "prev": "d8fc706c-2d32-4de0-9d13-d9a2807d0db4",
     "regions": {
      "6fd7a199-11e5-4335-b4e1-24d2a4ba90dc": {
       "attrs": {
        "height": 0.8,
        "width": 0.8,
        "x": 0.1,
        "y": 0.1
       },
       "content": {
        "cell": "18237602-3545-462a-87ce-b3a1a0f52f03",
        "part": "whole"
       },
       "id": "6fd7a199-11e5-4335-b4e1-24d2a4ba90dc"
      }
     }
    },
    "36537814-e8a3-43d9-89c5-819c7681f7eb": {
     "id": "36537814-e8a3-43d9-89c5-819c7681f7eb",
     "prev": "ac50f228-3e6d-4542-97c1-7fde755f91ea",
     "regions": {
      "602f80d2-c058-4404-9cc9-2ee828805f17": {
       "attrs": {
        "height": 0.8,
        "width": 0.8,
        "x": 0.1,
        "y": 0.1
       },
       "content": {
        "cell": "1d40ae76-f9cf-4ac2-a99d-b6ac7e21151d",
        "part": "whole"
       },
       "id": "602f80d2-c058-4404-9cc9-2ee828805f17"
      }
     }
    },
    "52c15704-ad4c-4e1e-accd-13168dce0bb6": {
     "id": "52c15704-ad4c-4e1e-accd-13168dce0bb6",
     "prev": "c4a87bf3-c20b-4113-a113-dc5680541b47",
     "regions": {
      "b32853bf-eaae-4738-a544-82fd9cd3dfe2": {
       "attrs": {
        "height": 0.8,
        "width": 0.8,
        "x": 0.1,
        "y": 0.1
       },
       "content": {
        "cell": "782f05c6-d111-450c-91fa-8b8bb3d269b4",
        "part": "whole"
       },
       "id": "b32853bf-eaae-4738-a544-82fd9cd3dfe2"
      }
     }
    },
    "56b2c055-277c-4d29-8a52-759afff0c00d": {
     "id": "56b2c055-277c-4d29-8a52-759afff0c00d",
     "prev": "999202e8-897e-4db1-865f-924a9d72b84d",
     "regions": {
      "7e81d161-9309-49db-afc8-1329a11df6e4": {
       "attrs": {
        "height": 0.8,
        "width": 0.8,
        "x": 0.1,
        "y": 0.1
       },
       "content": {
        "cell": "a817a392-a955-457f-9415-407cc95cf78b",
        "part": "whole"
       },
       "id": "7e81d161-9309-49db-afc8-1329a11df6e4"
      }
     }
    },
    "5f403407-6e38-46c7-ab12-5bb0c2ecc461": {
     "id": "5f403407-6e38-46c7-ab12-5bb0c2ecc461",
     "prev": "36537814-e8a3-43d9-89c5-819c7681f7eb",
     "regions": {
      "fb140d3c-deec-4950-a804-b27b9964a097": {
       "attrs": {
        "height": 0.8,
        "width": 0.8,
        "x": 0.1,
        "y": 0.1
       },
       "content": {
        "cell": "35c6b49a-1fc3-4b32-b090-6fa213515075",
        "part": "whole"
       },
       "id": "fb140d3c-deec-4950-a804-b27b9964a097"
      }
     }
    },
    "61d6dd57-a92d-4105-8144-f16417d28df6": {
     "id": "61d6dd57-a92d-4105-8144-f16417d28df6",
     "prev": "325db9f9-d67b-42e1-9794-63a0a0f11b9c",
     "regions": {
      "909720fa-6e11-4b38-bc68-6fa19e63abd8": {
       "attrs": {
        "height": 0.8,
        "width": 0.8,
        "x": 0.1,
        "y": 0.1
       },
       "content": {
        "cell": "9242fc4f-4ebb-4335-bdec-3dddfb30f5be",
        "part": "whole"
       },
       "id": "909720fa-6e11-4b38-bc68-6fa19e63abd8"
      }
     }
    },
    "644f6d28-e826-49dc-a55f-aa4c310495df": {
     "id": "644f6d28-e826-49dc-a55f-aa4c310495df",
     "prev": "6b88e010-dee2-4518-a098-15c009c0dad5",
     "regions": {
      "6fb61c13-54cb-428e-b9da-79c7b87af242": {
       "attrs": {
        "height": 0.8,
        "width": 0.8,
        "x": 0.1,
        "y": 0.1
       },
       "content": {
        "cell": "d8840eaf-e852-4e04-8557-1f0d99ad6b68",
        "part": "whole"
       },
       "id": "6fb61c13-54cb-428e-b9da-79c7b87af242"
      }
     }
    },
    "6b88e010-dee2-4518-a098-15c009c0dad5": {
     "id": "6b88e010-dee2-4518-a098-15c009c0dad5",
     "prev": "e604c0ff-c773-474a-8c6c-71a270d4e32a",
     "regions": {
      "4dd43cae-6a04-49d2-93de-dfe8e0520037": {
       "attrs": {
        "height": 0.8,
        "width": 0.8,
        "x": 0.1,
        "y": 0.1
       },
       "content": {
        "cell": "a7c6d64c-931d-411a-ba3a-6ff34d5fe4ab",
        "part": "whole"
       },
       "id": "4dd43cae-6a04-49d2-93de-dfe8e0520037"
      }
     }
    },
    "71c29839-8c2e-4540-b26b-a19082238378": {
     "id": "71c29839-8c2e-4540-b26b-a19082238378",
     "prev": "644f6d28-e826-49dc-a55f-aa4c310495df",
     "regions": {
      "b7c6080a-740b-471f-afd3-5fe4acf05b6c": {
       "attrs": {
        "height": 0.8,
        "width": 0.8,
        "x": 0.1,
        "y": 0.1
       },
       "content": {
        "cell": "0eafca78-4a95-4d62-a2a6-0d2fb6393599",
        "part": "whole"
       },
       "id": "b7c6080a-740b-471f-afd3-5fe4acf05b6c"
      }
     }
    },
    "76757929-6a0e-41a4-92cb-fc1fa4f9af88": {
     "id": "76757929-6a0e-41a4-92cb-fc1fa4f9af88",
     "prev": "bb96db9e-1eda-4ccf-86e8-3b0fa7744e90",
     "regions": {
      "04d6851b-413c-4642-b5cf-90c82b67c1b6": {
       "attrs": {
        "height": 0.8,
        "width": 0.8,
        "x": 0.1,
        "y": 0.1
       },
       "content": {
        "cell": "ee674230-133a-4189-8a1d-c0e29dc694c1",
        "part": "whole"
       },
       "id": "04d6851b-413c-4642-b5cf-90c82b67c1b6"
      }
     }
    },
    "83a6e539-8178-4c94-8391-620ed006a02d": {
     "id": "83a6e539-8178-4c94-8391-620ed006a02d",
     "prev": "96bad530-12a7-4fee-96fe-2ac910d63f92",
     "regions": {
      "573bde74-3566-4719-983d-8adc28c281b1": {
       "attrs": {
        "height": 0.8,
        "width": 0.8,
        "x": 0.1,
        "y": 0.1
       },
       "content": {
        "cell": "13975274-b879-40e2-8862-9bf3c243fcb6",
        "part": "whole"
       },
       "id": "573bde74-3566-4719-983d-8adc28c281b1"
      }
     }
    },
    "85034455-18c2-4a26-89ec-257f35b67ae8": {
     "id": "85034455-18c2-4a26-89ec-257f35b67ae8",
     "prev": "8e515b48-c9a7-426c-9b4b-5c8d19a5d742",
     "regions": {
      "10babae6-802a-4b00-9203-89b1e70294f6": {
       "attrs": {
        "height": 0.8,
        "width": 0.8,
        "x": 0.1,
        "y": 0.1
       },
       "content": {
        "cell": "d710d017-3df3-49a5-b73b-d612eb85a564",
        "part": "whole"
       },
       "id": "10babae6-802a-4b00-9203-89b1e70294f6"
      }
     }
    },
    "8cb8348b-9402-4880-8f64-27f38350ea87": {
     "id": "8cb8348b-9402-4880-8f64-27f38350ea87",
     "prev": "90339581-7379-4efb-a01d-025aa9b7a55d",
     "regions": {
      "0f0b136a-ad6b-4b21-893f-2251bf38f095": {
       "attrs": {
        "height": 0.8,
        "width": 0.8,
        "x": 0.1,
        "y": 0.1
       },
       "content": {
        "cell": "9d46007c-8ded-479b-a4e0-198123315088",
        "part": "whole"
       },
       "id": "0f0b136a-ad6b-4b21-893f-2251bf38f095"
      }
     }
    },
    "8d8d6580-bf4b-430d-a6a2-77eae92e16d4": {
     "id": "8d8d6580-bf4b-430d-a6a2-77eae92e16d4",
     "prev": "a2a65125-b164-41d8-b650-c352ae6a1e3d",
     "regions": {
      "067c7922-9947-41ed-9b36-f302844b402b": {
       "attrs": {
        "height": 0.8,
        "width": 0.8,
        "x": 0.1,
        "y": 0.1
       },
       "content": {
        "cell": "c4efb7d7-32c3-4a4b-89ca-8e1b8b083331",
        "part": "whole"
       },
       "id": "067c7922-9947-41ed-9b36-f302844b402b"
      }
     }
    },
    "8e515b48-c9a7-426c-9b4b-5c8d19a5d742": {
     "id": "8e515b48-c9a7-426c-9b4b-5c8d19a5d742",
     "prev": "76757929-6a0e-41a4-92cb-fc1fa4f9af88",
     "regions": {
      "121678a8-13fe-487d-9a02-4015fb09a156": {
       "attrs": {
        "height": 0.8,
        "width": 0.8,
        "x": 0.1,
        "y": 0.1
       },
       "content": {
        "cell": "b3b3fb13-c172-4ee5-9431-3cbecd552528",
        "part": "whole"
       },
       "id": "121678a8-13fe-487d-9a02-4015fb09a156"
      }
     }
    },
    "8e975a58-463f-4fc9-8ea4-4766856d1966": {
     "id": "8e975a58-463f-4fc9-8ea4-4766856d1966",
     "prev": "1e53fce1-837b-461a-9d6e-3fed42060757",
     "regions": {
      "ba8cafe9-d35c-427c-a2ae-12744263c02c": {
       "attrs": {
        "height": 0.8,
        "width": 0.8,
        "x": 0.1,
        "y": 0.1
       },
       "content": {
        "cell": "6cf4429f-d45b-4041-bee2-005b6b5df6ae",
        "part": "whole"
       },
       "id": "ba8cafe9-d35c-427c-a2ae-12744263c02c"
      }
     }
    },
    "90339581-7379-4efb-a01d-025aa9b7a55d": {
     "id": "90339581-7379-4efb-a01d-025aa9b7a55d",
     "prev": "9f267376-cef3-489c-9d8a-5a555e60b369",
     "regions": {
      "56cab463-065b-4cd9-a841-a51679a8657f": {
       "attrs": {
        "height": 0.8,
        "width": 0.8,
        "x": 0.1,
        "y": 0.1
       },
       "content": {
        "cell": "4246d09f-a60b-465c-b369-72940c938a74",
        "part": "whole"
       },
       "id": "56cab463-065b-4cd9-a841-a51679a8657f"
      }
     }
    },
    "90a2ab5a-9c04-4f67-8200-b780282d7e26": {
     "id": "90a2ab5a-9c04-4f67-8200-b780282d7e26",
     "prev": "85034455-18c2-4a26-89ec-257f35b67ae8",
     "regions": {
      "9a2d8c18-050d-43cf-8ec2-85159a579168": {
       "attrs": {
        "height": 0.8,
        "width": 0.8,
        "x": 0.1,
        "y": 0.1
       },
       "content": {
        "cell": "82c2923d-5fbc-41a4-a18c-48af09185d41",
        "part": "whole"
       },
       "id": "9a2d8c18-050d-43cf-8ec2-85159a579168"
      }
     }
    },
    "95855f28-0525-4907-99bb-ff0d791d6848": {
     "id": "95855f28-0525-4907-99bb-ff0d791d6848",
     "prev": "56b2c055-277c-4d29-8a52-759afff0c00d",
     "regions": {
      "0ac18672-bcca-4bd6-89f7-bb18ce24c448": {
       "attrs": {
        "height": 0.8,
        "width": 0.8,
        "x": 0.1,
        "y": 0.1
       },
       "content": {
        "cell": "86c9ae1f-92f3-4431-ae82-e06b19e25221",
        "part": "whole"
       },
       "id": "0ac18672-bcca-4bd6-89f7-bb18ce24c448"
      }
     }
    },
    "96bad530-12a7-4fee-96fe-2ac910d63f92": {
     "id": "96bad530-12a7-4fee-96fe-2ac910d63f92",
     "prev": "0553d095-9050-4655-bc77-e91ed48f34c1",
     "regions": {
      "9f17ff9a-278b-4314-9b0a-449af77c4afa": {
       "attrs": {
        "height": 0.8,
        "width": 0.8,
        "x": 0.1,
        "y": 0.1
       },
       "content": {
        "cell": "d201a36e-0da4-4769-8664-fb58b245171d",
        "part": "whole"
       },
       "id": "9f17ff9a-278b-4314-9b0a-449af77c4afa"
      }
     }
    },
    "999202e8-897e-4db1-865f-924a9d72b84d": {
     "id": "999202e8-897e-4db1-865f-924a9d72b84d",
     "prev": "293a66e9-3ba6-492c-ae2d-c43f85d9708d",
     "regions": {
      "2c4a0fc9-da43-414b-a023-3119d4789639": {
       "attrs": {
        "height": 0.8,
        "width": 0.8,
        "x": 0.1,
        "y": 0.1
       },
       "content": {
        "cell": "71ddde23-79be-4781-ab61-8bd091434768",
        "part": "whole"
       },
       "id": "2c4a0fc9-da43-414b-a023-3119d4789639"
      }
     }
    },
    "9f267376-cef3-489c-9d8a-5a555e60b369": {
     "id": "9f267376-cef3-489c-9d8a-5a555e60b369",
     "prev": "e6477203-bda6-4b17-b053-1bc424514f32",
     "regions": {
      "3e61316f-7761-4959-ab17-060c0e1ea677": {
       "attrs": {
        "height": 0.8,
        "width": 0.8,
        "x": 0.1,
        "y": 0.1
       },
       "content": {
        "cell": "319031fa-6b17-4f91-b822-f2f0975d5f22",
        "part": "whole"
       },
       "id": "3e61316f-7761-4959-ab17-060c0e1ea677"
      }
     }
    },
    "a2a65125-b164-41d8-b650-c352ae6a1e3d": {
     "id": "a2a65125-b164-41d8-b650-c352ae6a1e3d",
     "prev": "254f7282-3f5c-42f8-b60b-03d28404e6bf",
     "regions": {
      "345a2176-b66b-4e75-a632-e997d0244d42": {
       "attrs": {
        "height": 0.8,
        "width": 0.8,
        "x": 0.1,
        "y": 0.1
       },
       "content": {
        "cell": "1168a0e1-dc97-4755-99ef-ebbec0ecb134",
        "part": "whole"
       },
       "id": "345a2176-b66b-4e75-a632-e997d0244d42"
      }
     }
    },
    "a42a5d94-eed2-4d12-858d-6b4390c62289": {
     "id": "a42a5d94-eed2-4d12-858d-6b4390c62289",
     "prev": "90a2ab5a-9c04-4f67-8200-b780282d7e26",
     "regions": {
      "acb4a370-0a7d-401a-a9e0-8fc969f85e56": {
       "attrs": {
        "height": 0.8,
        "width": 0.8,
        "x": 0.1,
        "y": 0.1
       },
       "content": {
        "cell": "cf355e47-e8fc-49d9-8d85-8dbd32bb66c4",
        "part": "whole"
       },
       "id": "acb4a370-0a7d-401a-a9e0-8fc969f85e56"
      }
     }
    },
    "ac50f228-3e6d-4542-97c1-7fde755f91ea": {
     "id": "ac50f228-3e6d-4542-97c1-7fde755f91ea",
     "prev": "95855f28-0525-4907-99bb-ff0d791d6848",
     "regions": {
      "19449964-d717-464e-a758-b5155bfb95fe": {
       "attrs": {
        "height": 0.8,
        "width": 0.8,
        "x": 0.1,
        "y": 0.1
       },
       "content": {
        "cell": "dfb0c43a-c7f0-4629-8955-2d9487d8ca3d",
        "part": "whole"
       },
       "id": "19449964-d717-464e-a758-b5155bfb95fe"
      }
     }
    },
    "aff7e23a-f1de-4236-b962-b7f0040fdd43": {
     "id": "aff7e23a-f1de-4236-b962-b7f0040fdd43",
     "prev": "02d40ee5-8ff6-4831-a6a5-4b47ce2eb06b",
     "regions": {
      "6f8df0ab-e295-46ea-880d-e74b13192aff": {
       "attrs": {
        "height": 0.8,
        "width": 0.8,
        "x": 0.1,
        "y": 0.1
       },
       "content": {
        "cell": "4938cc29-8bfc-4bc6-9aae-ac35f2962fa7",
        "part": "whole"
       },
       "id": "6f8df0ab-e295-46ea-880d-e74b13192aff"
      }
     }
    },
    "bb96db9e-1eda-4ccf-86e8-3b0fa7744e90": {
     "id": "bb96db9e-1eda-4ccf-86e8-3b0fa7744e90",
     "prev": "83a6e539-8178-4c94-8391-620ed006a02d",
     "regions": {
      "af4d3d34-b014-4cfa-934a-2ec60ce0781c": {
       "attrs": {
        "height": 0.8,
        "width": 0.8,
        "x": 0.1,
        "y": 0.1
       },
       "content": {
        "cell": "7129f889-6626-41df-aa46-8c8b425462c7",
        "part": "whole"
       },
       "id": "af4d3d34-b014-4cfa-934a-2ec60ce0781c"
      }
     }
    },
    "c4a87bf3-c20b-4113-a113-dc5680541b47": {
     "id": "c4a87bf3-c20b-4113-a113-dc5680541b47",
     "prev": "71c29839-8c2e-4540-b26b-a19082238378",
     "regions": {
      "40692b28-80db-4541-a97d-d962d89e61e4": {
       "attrs": {
        "height": 0.8,
        "width": 0.8,
        "x": 0.1,
        "y": 0.1
       },
       "content": {
        "cell": "d9aa2cd1-8eba-4c45-848d-936613d1212c",
        "part": "whole"
       },
       "id": "40692b28-80db-4541-a97d-d962d89e61e4"
      }
     }
    },
    "d8fc706c-2d32-4de0-9d13-d9a2807d0db4": {
     "id": "d8fc706c-2d32-4de0-9d13-d9a2807d0db4",
     "prev": "ed683795-34fd-450e-80c3-3f6dc7b83900",
     "regions": {
      "4269105f-6e19-44ba-a1ce-106644583c56": {
       "attrs": {
        "height": 0.8,
        "width": 0.8,
        "x": 0.1,
        "y": 0.1
       },
       "content": {
        "cell": "d3a5418f-ed51-4a9e-b66c-26f1f71d4c8d",
        "part": "whole"
       },
       "id": "4269105f-6e19-44ba-a1ce-106644583c56"
      }
     }
    },
    "dcf5e1e0-21c2-4c98-8e48-615aed46552a": {
     "id": "dcf5e1e0-21c2-4c98-8e48-615aed46552a",
     "prev": "52c15704-ad4c-4e1e-accd-13168dce0bb6",
     "regions": {
      "5cf4bc76-e8f8-4e58-b42e-57f2437b6592": {
       "attrs": {
        "height": 0.8,
        "width": 0.8,
        "x": 0.1,
        "y": 0.1
       },
       "content": {
        "cell": "fd79f149-ef17-4945-b850-0aef569d9d24",
        "part": "whole"
       },
       "id": "5cf4bc76-e8f8-4e58-b42e-57f2437b6592"
      }
     }
    },
    "e5f6e55a-557e-4c80-b9da-196a45141fc9": {
     "id": "e5f6e55a-557e-4c80-b9da-196a45141fc9",
     "prev": "5f403407-6e38-46c7-ab12-5bb0c2ecc461",
     "regions": {
      "03427574-50b9-4889-83fc-ea12b236938b": {
       "attrs": {
        "height": 0.8,
        "width": 0.8,
        "x": 0.1,
        "y": 0.1
       },
       "content": {
        "cell": "72387bf5-c49c-4f03-88e4-be7a90cf9990",
        "part": "whole"
       },
       "id": "03427574-50b9-4889-83fc-ea12b236938b"
      }
     }
    },
    "e604c0ff-c773-474a-8c6c-71a270d4e32a": {
     "id": "e604c0ff-c773-474a-8c6c-71a270d4e32a",
     "prev": "61d6dd57-a92d-4105-8144-f16417d28df6",
     "regions": {
      "349526d2-de64-43a8-9b5b-b8ed5155f005": {
       "attrs": {
        "height": 0.8,
        "width": 0.8,
        "x": 0.1,
        "y": 0.1
       },
       "content": {
        "cell": "a18c30d8-5c0e-4f56-b681-0a66563e9f8c",
        "part": "whole"
       },
       "id": "349526d2-de64-43a8-9b5b-b8ed5155f005"
      }
     }
    },
    "e6477203-bda6-4b17-b053-1bc424514f32": {
     "id": "e6477203-bda6-4b17-b053-1bc424514f32",
     "prev": "8d8d6580-bf4b-430d-a6a2-77eae92e16d4",
     "regions": {
      "8e8bf57e-5108-4689-b1e5-4cdd45f0ddc4": {
       "attrs": {
        "height": 0.8,
        "width": 0.8,
        "x": 0.1,
        "y": 0.1
       },
       "content": {
        "cell": "5bbdcfab-91fd-442b-a206-88a8fa0c1dd3",
        "part": "whole"
       },
       "id": "8e8bf57e-5108-4689-b1e5-4cdd45f0ddc4"
      }
     }
    },
    "ed683795-34fd-450e-80c3-3f6dc7b83900": {
     "id": "ed683795-34fd-450e-80c3-3f6dc7b83900",
     "prev": "e5f6e55a-557e-4c80-b9da-196a45141fc9",
     "regions": {
      "d39d9eae-ca18-49d2-9a5e-50a55546e79a": {
       "attrs": {
        "height": 0.8,
        "width": 0.8,
        "x": 0.1,
        "y": 0.1
       },
       "content": {
        "cell": "bc3f3b2f-8d55-4bf9-8dbf-5fdc99af3a0d",
        "part": "whole"
       },
       "id": "d39d9eae-ca18-49d2-9a5e-50a55546e79a"
      }
     }
    }
   },
   "themes": {}
  }
 },
 "nbformat": 4,
 "nbformat_minor": 0
}
